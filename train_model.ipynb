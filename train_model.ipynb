{
 "cells": [
  {
   "cell_type": "code",
   "execution_count": null,
   "metadata": {},
   "outputs": [],
   "source": [
    "\"\"\"\n",
    "Trigger training here\n",
    "\"\"\"\n",
    "import argparse\n",
    "import os\n",
    "from torchvision import datasets, transforms\n",
    "from torchvision.utils import save_image\n",
    "from torch.utils.data import DataLoader, TensorDataset\n",
    "import numpy as np\n",
    "from skimage import io\n",
    "from tqdm import tqdm\n",
    "import torch\n",
    "from utils.training import Encoder, Decoder, OdirVAETraining, VAEDataset\n",
    "\n",
    "\n",
    "if __name__ == '__main__':\n",
    "    print(\"Load Data as Tensors...\")\n",
    "    img_dataset = datasets.ImageFolder('./data/processed/', transform=transforms.ToTensor())\n",
    "    data = VAEDataset(img_dataset)\n",
    "\n",
    "    encoder, decoder = Encoder(), Decoder()\n",
    "    training = OdirVAETraining(\n",
    "        encoder, decoder, data,\n",
    "        network_name=\"odir-vae\",\n",
    "        device=\"cpu\",\n",
    "        batch_size=50,\n",
    "        max_epochs=1000,\n",
    "        verbose=True\n",
    "    )\n",
    "\n",
    "    training.train()\n"
   ]
  }
 ],
 "metadata": {
  "kernelspec": {
   "display_name": "Python 3",
   "language": "python",
   "name": "python3"
  },
  "language_info": {
   "codemirror_mode": {
    "name": "ipython",
    "version": 3
   },
   "file_extension": ".py",
   "mimetype": "text/x-python",
   "name": "python",
   "nbconvert_exporter": "python",
   "pygments_lexer": "ipython3",
   "version": "3.6.10"
  }
 },
 "nbformat": 4,
 "nbformat_minor": 2
}
